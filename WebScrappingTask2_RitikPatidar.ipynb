{
  "nbformat": 4,
  "nbformat_minor": 0,
  "metadata": {
    "colab": {
      "provenance": [],
      "authorship_tag": "ABX9TyOZpdS/Mdk/IbIdJnXhz6Np",
      "include_colab_link": true
    },
    "kernelspec": {
      "name": "python3",
      "display_name": "Python 3"
    },
    "language_info": {
      "name": "python"
    }
  },
  "cells": [
    {
      "cell_type": "markdown",
      "metadata": {
        "id": "view-in-github",
        "colab_type": "text"
      },
      "source": [
        "<a href=\"https://colab.research.google.com/github/ritikpatidarrp/WebScrapping/blob/main/WebScrappingTask2_RitikPatidar.ipynb\" target=\"_parent\"><img src=\"https://colab.research.google.com/assets/colab-badge.svg\" alt=\"Open In Colab\"/></a>"
      ]
    },
    {
      "cell_type": "code",
      "execution_count": 121,
      "metadata": {
        "colab": {
          "base_uri": "https://localhost:8080/"
        },
        "id": "Wp6_jMM4Dggp",
        "outputId": "19a8b609-3a6b-40ad-c6a7-540f6a5b24e6"
      },
      "outputs": [
        {
          "output_type": "stream",
          "name": "stdout",
          "text": [
            "Requirement already satisfied: beautifulsoup4 in /usr/local/lib/python3.10/dist-packages (4.12.3)\n",
            "Requirement already satisfied: soupsieve>1.2 in /usr/local/lib/python3.10/dist-packages (from beautifulsoup4) (2.5)\n",
            "Requirement already satisfied: requests in /usr/local/lib/python3.10/dist-packages (2.31.0)\n",
            "Requirement already satisfied: charset-normalizer<4,>=2 in /usr/local/lib/python3.10/dist-packages (from requests) (3.3.2)\n",
            "Requirement already satisfied: idna<4,>=2.5 in /usr/local/lib/python3.10/dist-packages (from requests) (3.6)\n",
            "Requirement already satisfied: urllib3<3,>=1.21.1 in /usr/local/lib/python3.10/dist-packages (from requests) (2.0.7)\n",
            "Requirement already satisfied: certifi>=2017.4.17 in /usr/local/lib/python3.10/dist-packages (from requests) (2024.2.2)\n"
          ]
        }
      ],
      "source": [
        "!pip3 install beautifulsoup4\n",
        "!pip3 install requests"
      ]
    },
    {
      "cell_type": "code",
      "source": [
        "import requests\n",
        "from bs4 import BeautifulSoup\n",
        "HEADERS = {'User-Agent': 'Mozilla/5.0 (Macintosh; Intel Mac OS X 10_15_7) AppleWebKit/537.36 (KHTML, like Gecko) Chrome/121.0.0.0 Safari/537.36', 'Accept-Language': 'en-US, en;q=0.5'}\n"
      ],
      "metadata": {
        "id": "ETqGEn4mEyAf"
      },
      "execution_count": 122,
      "outputs": []
    },
    {
      "cell_type": "code",
      "source": [
        "URL = 'https://www.amazon.com/dp/B08L5M9L4L?th=1'"
      ],
      "metadata": {
        "id": "0B6lTbQGE16j"
      },
      "execution_count": 123,
      "outputs": []
    },
    {
      "cell_type": "code",
      "source": [
        "webpage = requests.get(URL, headers=HEADERS)\n",
        "soup = BeautifulSoup(webpage.content, \"html.parser\")"
      ],
      "metadata": {
        "id": "rB0AqnmEE8J3"
      },
      "execution_count": 124,
      "outputs": []
    },
    {
      "cell_type": "code",
      "source": [
        "reviews_element = soup.find(\"div\",class_=\"a-section review-views celwidget\").find_all('div',class_='a-section review aok-relative')"
      ],
      "metadata": {
        "id": "0BgeX0i5FOoZ"
      },
      "execution_count": 125,
      "outputs": []
    },
    {
      "cell_type": "code",
      "source": [
        "print(reviews_element[0])\n",
        "print(reviews_element[1])"
      ],
      "metadata": {
        "colab": {
          "base_uri": "https://localhost:8080/"
        },
        "id": "8Lzy4TJ6MWFz",
        "outputId": "77669fde-8635-4e47-acfd-cb108ff0a7d4"
      },
      "execution_count": 126,
      "outputs": [
        {
          "output_type": "stream",
          "name": "stdout",
          "text": [
            "<div class=\"a-section review aok-relative\" data-hook=\"review\" id=\"R3NXZH7L72EZMI\"><div class=\"a-row a-spacing-none\" id=\"R3NXZH7L72EZMI-review-card\"><div class=\"a-section celwidget\" id=\"customer_review-R3NXZH7L72EZMI\"><div class=\"a-row a-spacing-mini\" data-hook=\"genome-widget\"><a class=\"a-profile\" data-a-size=\"small\" href=\"/gp/profile/amzn1.account.AE6LNEJB2DM7DWJ5XGH7E5K7CVRA/ref=cm_cr_dp_d_gw_tr?ie=UTF8\"><div aria-hidden=\"true\" class=\"a-profile-avatar-wrapper\"><div class=\"a-profile-avatar\"><img class=\"a-lazy-loaded\" data-src=\"https://images-na.ssl-images-amazon.com/images/S/amazon-avatars-global/default._CR0,0,1024,1024_SX48_.png\" src=\"https://images-na.ssl-images-amazon.com/images/G/01/x-locale/common/grey-pixel.gif\"/><noscript><img src=\"https://images-na.ssl-images-amazon.com/images/S/amazon-avatars-global/default._CR0,0,1024,1024_SX48_.png\"/></noscript></div></div><div class=\"a-profile-content\"><span class=\"a-profile-name\">JANICE</span></div></a></div><div class=\"a-row\"><a class=\"a-size-base a-link-normal review-title a-color-base review-title-content a-text-bold\" data-hook=\"review-title\" href=\"/gp/customer-reviews/R3NXZH7L72EZMI/ref=cm_cr_dp_d_rvw_ttl?ie=UTF8&amp;ASIN=B08L5M9L4L\"><i class=\"a-icon a-icon-star a-star-5 review-rating\" data-hook=\"review-star-rating\"><span class=\"a-icon-alt\">5.0 out of 5 stars</span></i><span class=\"a-letter-space\"></span>\n",
            "<span>This case is not worth the money.</span>\n",
            "</a></div><span class=\"a-size-base a-color-secondary review-date\" data-hook=\"review-date\">Reviewed in the United States on October 22, 2021</span><div class=\"a-row a-spacing-mini review-data review-format-strip\"><a class=\"a-link-normal\" href=\"/gp/help/customer/display.html/ref=cm_cr_dp_d_rvw_avp?nodeId=G75XTB7MBMBTXP6W\" rel=\"noopener\" target=\"_blank\"><span class=\"a-size-mini a-color-state a-text-bold\" data-hook=\"avp-badge-linkless\">Verified Purchase</span></a></div><div class=\"a-row a-spacing-small review-data\"><span class=\"a-size-base review-text\" data-hook=\"review-body\"><div class=\"a-expander-collapsed-height a-row a-expander-container a-expander-partial-collapse-container\" data-a-expander-collapsed-height=\"300\" data-a-expander-name=\"review_text_read_more\" style=\"max-height:300px\"><div aria-expanded=\"false\" class=\"a-expander-content reviewText review-text-content a-expander-partial-collapse-content\" data-hook=\"review-collapsed\">\n",
            "<span>I usually have an iphone case for the life of the iPhone. I purchased this silicone case and it started to deteriorate quickly. First the corners start cracking and crumbling.  Then other places around the edge start doing the same.  I would take a picture, but I’m afraid if I took it off my phone it would totally disintegrate. Plus the charging magnet is temperamental. I would recommend staying away from this set.</span>\n",
            "</div><div class=\"a-expander-header a-expander-partial-collapse-header\"><div class=\"a-expander-content-fade\"></div><a aria-expanded=\"false\" aria-label=\"Toggle full review text\" class=\"a-declarative\" data-a-expander-toggle='{\"allowLinkDefault\":true, \"expand_prompt\":\"Read more\", \"collapse_prompt\":\"Read less\"}' data-action=\"a-expander-toggle\" data-csa-c-func-deps=\"aui-da-a-expander-toggle\" data-csa-c-type=\"widget\" data-csa-interaction-events=\"click\" data-hook=\"expand-collapse-read-more-less\" href=\"javascript:void(0)\" role=\"button\"><i class=\"a-icon a-icon-extender-expand\"></i><span class=\"a-expander-prompt\">Read more</span></a></div></div></span></div><div class=\"a-row review-comments cr-vote-action-bar\" data-hook=\"review-comments\"><span class=\"cr-vote\" data-hook=\"review-voting-widget\">\n",
            "<div class=\"a-row a-spacing-small\"><span class=\"a-size-base a-color-tertiary cr-vote-text\" data-hook=\"helpful-vote-statement\">16 people found this helpful</span></div><!-- Components for Reactions C -->\n",
            "<div class=\"cr-helpful-button aok-float-left\">\n",
            "<span class=\"a-button a-button-base\"><span class=\"a-button-inner\"><a class=\"a-button-text\" data-hook=\"vote-helpful-button\" href=\"https://www.amazon.com/ap/signin?openid.return_to=https%3A%2F%2Fwww.amazon.com%2Fdp%2FB08L5M9L4L%2Fref%3Dcm_cr_dp_d_vote_lft%3Fie%3DUTF8%26csrfT%3DhJeoYqXuoyKlwGOTnUCNAoXg88dfUP%252BsoFm9rPeHBI5KAAAAAGXUnwIAAAAB%26reviewId%3DR3NXZH7L72EZMI%23R3NXZH7L72EZMI&amp;openid.identity=http%3A%2F%2Fspecs.openid.net%2Fauth%2F2.0%2Fidentifier_select&amp;openid.assoc_handle=usflex&amp;openid.mode=checkid_setup&amp;marketPlaceId=ATVPDKIKX0DER&amp;language=en&amp;openid.claimed_id=http%3A%2F%2Fspecs.openid.net%2Fauth%2F2.0%2Fidentifier_select&amp;openid.ns=http%3A%2F%2Fspecs.openid.net%2Fauth%2F2.0\"><div class=\"cr-helpful-text\">\n",
            "              Helpful</div>\n",
            "</a></span></span></div>\n",
            "</span><span class=\"cr-footer-line-height\">\n",
            "<span><i aria-label=\"|\" class=\"a-icon a-icon-text-separator\" role=\"img\"></i><span class=\"a-declarative\" data-action=\"cr-popup\" data-cr-popup='{\"width\":\"580\",\"title\":\"ReportAbuse\",\"url\":\"/hz/reviews-render/report-review?ie=UTF8&amp;ref=cm_cr_dp_d_report&amp;csrfT=hJeoYqXuoyKlwGOTnUCNAoXg88dfUP%2BsoFm9rPeHBI5KAAAAAGXUnwIAAAAB&amp;reviewId=R3NXZH7L72EZMI\",\"height\":\"380\"}' data-csa-c-func-deps=\"aui-da-cr-popup\" data-csa-c-type=\"widget\"><a class=\"a-size-base a-link-normal a-color-secondary report-abuse-link a-text-normal\" href=\"/hz/reviews-render/report-review?ie=UTF8&amp;ref=cm_cr_dp_d_report&amp;csrfT=hJeoYqXuoyKlwGOTnUCNAoXg88dfUP%2BsoFm9rPeHBI5KAAAAAGXUnwIAAAAB&amp;reviewId=R3NXZH7L72EZMI\">Report</a></span></span></span>\n",
            "</div></div></div></div>\n",
            "<div class=\"a-section review aok-relative\" data-hook=\"review\" id=\"R1HS6OX7EP0VQO\"><div class=\"a-row a-spacing-none\" id=\"R1HS6OX7EP0VQO-review-card\"><div class=\"a-section celwidget\" id=\"customer_review-R1HS6OX7EP0VQO\"><div class=\"a-row a-spacing-mini\" data-hook=\"genome-widget\"><a class=\"a-profile\" data-a-size=\"small\" href=\"/gp/profile/amzn1.account.AFI53JUYMSG6WMQQEIUVDJTZYMJQ/ref=cm_cr_dp_d_gw_tr?ie=UTF8\"><div aria-hidden=\"true\" class=\"a-profile-avatar-wrapper\"><div class=\"a-profile-avatar\"><img class=\"a-lazy-loaded\" data-src=\"https://images-na.ssl-images-amazon.com/images/S/amazon-avatars-global/default._CR0,0,1024,1024_SX48_.png\" src=\"https://images-na.ssl-images-amazon.com/images/G/01/x-locale/common/grey-pixel.gif\"/><noscript><img src=\"https://images-na.ssl-images-amazon.com/images/S/amazon-avatars-global/default._CR0,0,1024,1024_SX48_.png\"/></noscript></div></div><div class=\"a-profile-content\"><span class=\"a-profile-name\">Brandon S.</span></div></a></div><div class=\"a-row\"><a class=\"a-size-base a-link-normal review-title a-color-base review-title-content a-text-bold\" data-hook=\"review-title\" href=\"/gp/customer-reviews/R1HS6OX7EP0VQO/ref=cm_cr_dp_d_rvw_ttl?ie=UTF8&amp;ASIN=B08L5M9L4L\"><i class=\"a-icon a-icon-star a-star-5 review-rating\" data-hook=\"review-star-rating\"><span class=\"a-icon-alt\">5.0 out of 5 stars</span></i><span class=\"a-letter-space\"></span>\n",
            "<span>Well worth it</span>\n",
            "</a></div><span class=\"a-size-base a-color-secondary review-date\" data-hook=\"review-date\">Reviewed in the United States on January 13, 2024</span><div class=\"a-row a-spacing-mini review-data review-format-strip\"><span class=\"a-color-secondary\" data-hook=\"format-strip-linkless\">Color: Deep Navy</span><i aria-label=\"|\" class=\"a-icon a-icon-text-separator\" role=\"img\"></i><a class=\"a-link-normal\" href=\"/gp/help/customer/display.html/ref=cm_cr_dp_d_rvw_avp?nodeId=G75XTB7MBMBTXP6W\" rel=\"noopener\" target=\"_blank\"><span class=\"a-size-mini a-color-state a-text-bold\" data-hook=\"avp-badge-linkless\">Verified Purchase</span></a></div><div class=\"a-row a-spacing-small review-data\"><span class=\"a-size-base review-text\" data-hook=\"review-body\"><div class=\"a-expander-collapsed-height a-row a-expander-container a-expander-partial-collapse-container\" data-a-expander-collapsed-height=\"300\" data-a-expander-name=\"review_text_read_more\" style=\"max-height:300px\"><div aria-expanded=\"false\" class=\"a-expander-content reviewText review-text-content a-expander-partial-collapse-content\" data-hook=\"review-collapsed\">\n",
            "<span>I’ve had dozens of cases throughout the years but this one is probably my favorite. Thin, sleek, comfortable and durable.</span>\n",
            "</div><div class=\"a-expander-header a-expander-partial-collapse-header\"><div class=\"a-expander-content-fade\"></div><a aria-expanded=\"false\" aria-label=\"Toggle full review text\" class=\"a-declarative\" data-a-expander-toggle='{\"allowLinkDefault\":true, \"expand_prompt\":\"Read more\", \"collapse_prompt\":\"Read less\"}' data-action=\"a-expander-toggle\" data-csa-c-func-deps=\"aui-da-a-expander-toggle\" data-csa-c-type=\"widget\" data-csa-interaction-events=\"click\" data-hook=\"expand-collapse-read-more-less\" href=\"javascript:void(0)\" role=\"button\"><i class=\"a-icon a-icon-extender-expand\"></i><span class=\"a-expander-prompt\">Read more</span></a></div></div></span></div><div class=\"a-row review-comments cr-vote-action-bar\" data-hook=\"review-comments\"><span class=\"cr-vote\" data-hook=\"review-voting-widget\">\n",
            "<div class=\"a-row a-spacing-small\"><span class=\"a-size-base a-color-tertiary cr-vote-text\" data-hook=\"helpful-vote-statement\">3 people found this helpful</span></div><!-- Components for Reactions C -->\n",
            "<div class=\"cr-helpful-button aok-float-left\">\n",
            "<span class=\"a-button a-button-base\"><span class=\"a-button-inner\"><a class=\"a-button-text\" data-hook=\"vote-helpful-button\" href=\"https://www.amazon.com/ap/signin?openid.return_to=https%3A%2F%2Fwww.amazon.com%2Fdp%2FB08L5M9L4L%2Fref%3Dcm_cr_dp_d_vote_lft%3Fie%3DUTF8%26csrfT%3DhAYWJ%252F%252BaY6a%252BBSvwMiDeLZWDXTttXNc%252FzWRP2a%252F8acioAAAAAGXUnwIAAAAB%26reviewId%3DR1HS6OX7EP0VQO%23R1HS6OX7EP0VQO&amp;openid.identity=http%3A%2F%2Fspecs.openid.net%2Fauth%2F2.0%2Fidentifier_select&amp;openid.assoc_handle=usflex&amp;openid.mode=checkid_setup&amp;marketPlaceId=ATVPDKIKX0DER&amp;language=en&amp;openid.claimed_id=http%3A%2F%2Fspecs.openid.net%2Fauth%2F2.0%2Fidentifier_select&amp;openid.ns=http%3A%2F%2Fspecs.openid.net%2Fauth%2F2.0\"><div class=\"cr-helpful-text\">\n",
            "              Helpful</div>\n",
            "</a></span></span></div>\n",
            "</span><span class=\"cr-footer-line-height\">\n",
            "<span><i aria-label=\"|\" class=\"a-icon a-icon-text-separator\" role=\"img\"></i><span class=\"a-declarative\" data-action=\"cr-popup\" data-cr-popup='{\"width\":\"580\",\"title\":\"ReportAbuse\",\"url\":\"/hz/reviews-render/report-review?ie=UTF8&amp;ref=cm_cr_dp_d_report&amp;csrfT=hAYWJ%2F%2BaY6a%2BBSvwMiDeLZWDXTttXNc%2FzWRP2a%2F8acioAAAAAGXUnwIAAAAB&amp;reviewId=R1HS6OX7EP0VQO\",\"height\":\"380\"}' data-csa-c-func-deps=\"aui-da-cr-popup\" data-csa-c-type=\"widget\"><a class=\"a-size-base a-link-normal a-color-secondary report-abuse-link a-text-normal\" href=\"/hz/reviews-render/report-review?ie=UTF8&amp;ref=cm_cr_dp_d_report&amp;csrfT=hAYWJ%2F%2BaY6a%2BBSvwMiDeLZWDXTttXNc%2FzWRP2a%2F8acioAAAAAGXUnwIAAAAB&amp;reviewId=R1HS6OX7EP0VQO\">Report</a></span></span></span>\n",
            "</div></div></div></div>\n"
          ]
        }
      ]
    },
    {
      "cell_type": "code",
      "source": [
        "revno = 0\n",
        "for review_ele in reviews_element:\n",
        "  revno+=1\n",
        "  if revno==20:\n",
        "    break\n",
        "  print(\"Review No.:\",revno)\n",
        "  name = review_ele.find_all(\"span\")[0].text\n",
        "  print(\"Name:\",name)\n",
        "  star = review_ele.find_all(\"span\")[1].text\n",
        "  print(\"Rating:\",star)\n",
        "  title = review_ele.find_all(\"span\")[3].text\n",
        "  print(\"Title:\",title)\n",
        "  dateAndTime_ele = review_ele.find_all(\"span\")[4].text\n",
        "  print(\"Date and Time:\",dateAndTime_ele)\n",
        "  description = review_ele.find(\"div\",class_=\"a-expander-content reviewText review-text-content a-expander-partial-collapse-content\").text.strip()\n",
        "  print(\"Description:\",description,\"\\n\")"
      ],
      "metadata": {
        "colab": {
          "base_uri": "https://localhost:8080/"
        },
        "id": "EoJa9kU5T1-B",
        "outputId": "bb8d445b-99ed-43f2-df9c-b027eefb3f33"
      },
      "execution_count": 127,
      "outputs": [
        {
          "output_type": "stream",
          "name": "stdout",
          "text": [
            "Review No.: 1\n",
            "Name: JANICE\n",
            "Rating: 5.0 out of 5 stars\n",
            "Title: This case is not worth the money.\n",
            "Date and Time: Reviewed in the United States on October 22, 2021\n",
            "Description: I usually have an iphone case for the life of the iPhone. I purchased this silicone case and it started to deteriorate quickly. First the corners start cracking and crumbling.  Then other places around the edge start doing the same.  I would take a picture, but I’m afraid if I took it off my phone it would totally disintegrate. Plus the charging magnet is temperamental. I would recommend staying away from this set. \n",
            "\n",
            "Review No.: 2\n",
            "Name: Brandon S.\n",
            "Rating: 5.0 out of 5 stars\n",
            "Title: Well worth it\n",
            "Date and Time: Reviewed in the United States on January 13, 2024\n",
            "Description: I’ve had dozens of cases throughout the years but this one is probably my favorite. Thin, sleek, comfortable and durable. \n",
            "\n",
            "Review No.: 3\n",
            "Name: Vadym\n",
            "Rating: 5.0 out of 5 stars\n",
            "Title: Good quality\n",
            "Date and Time: Reviewed in the United States on February 8, 2024\n",
            "Description: Nice touch \n",
            "\n",
            "Review No.: 4\n",
            "Name: tim cadle\n",
            "Rating: 5.0 out of 5 stars\n",
            "Title: Great Value For This iPhone Case!\n",
            "Date and Time: Reviewed in the United States on October 5, 2023\n",
            "Description: I was a little hesitant about buying this case considering the price-point, but I figured I’d give it a try after it went on sale.  I am so glad that I did!  The fit is absolutely perfect, the texture is perfect for griping but not being too sticky, and it cleans very easily.  I got white concrete dust all over my hands, and I had to use my phone, so I got that dust all over the case while I was holding it.  It wiped right off with a cloth, none of it stuck to the case, which I thought was very impressive with how sticky that dust can be.  I’ve gotten it on tool handles, and other things where it actually stuck to it.  So definitely good on the ease of cleaning.  Also, if anyone is curious, this case’s silicone material matches the feel of the silicone on the iPad Magic Keyboard Case, and it also perfectly color matches with the black one.  And the magsafe capabilities are awesome!  I would highly recommend this case. 👍🏻 \n",
            "\n",
            "Review No.: 5\n",
            "Name: Nancie\n",
            "Rating: 4.0 out of 5 stars\n",
            "Title: I love this case, it's protected my phone but ...\n",
            "Date and Time: Reviewed in the United States on December 17, 2022\n",
            "Description: This is my second case. I love this case, it's protected my phone, but ... each time the phone is dropped another chunk of silicone breaks or peels off the case. The color is great, the feel is great, not too sticky or slippery, nice feel in my hand, slim. I understand silicone and there is a fine balance between how hard to make it vs look and feel. For me the look and feel of the product when I am carrying it was more important so I bought another one and know it will only last me a year or so. \n",
            "\n",
            "Review No.: 6\n",
            "Name: Kevin S.\n",
            "Rating: 5.0 out of 5 stars\n",
            "Title: Great Phone Case\n",
            "Date and Time: Reviewed in the United States on December 26, 2023\n",
            "Description: Great Phone case!  Looks great, feels great, and I got it at a great price.  Highly recommend getting a name brand or quality phone case.  It makes all the difference \n",
            "\n",
            "Review No.: 7\n",
            "Name: elyeager\n",
            "Rating: 1.0 out of 5 stars\n",
            "Title: A real heart breaker\n",
            "Date and Time: Reviewed in the United States on September 3, 2023\n",
            "Description: I bought this case in January. Let me tell you that I didn't just want to love this case -- I actually loved it. I loved the hand-feel, I loved the mag-safe, I loved the bright color. I convinced my husband and several friends to buy the same silicone case.Fast forward 9 months and this case is garbage.First, I dropped my phone once in July. My entire back glass is shattered. Fast forward a few weeks and I started to notice cracking around the edges of the phone. 3 out of 4 corners  now have cracked and ripped pieces.I haven't been especially hard on this phone or case. And I've never had a case respond so poorly to regular use, or need to be replaced in nine months. \n",
            "\n",
            "Review No.: 8\n",
            "Name: Avery Olson\n",
            "Rating: 4.0 out of 5 stars\n",
            "Title: Pretty good!\n",
            "Date and Time: Reviewed in the United States on January 21, 2024\n",
            "Description: It's a pretty good phone case, but I do have a few tings to mention. I was very disappointed as the magnet on the case isn't very strong. I saw complaints about others cases starting to wear really fast and I don't have very much of that yet (I've had it for a few weeks now) and I hope I don't get any wear anytime soon. Paying 50$ for a name brand phone case is insane so I shouldn't experience wear and tear after a month like others complained of. \n",
            "\n"
          ]
        }
      ]
    }
  ]
}