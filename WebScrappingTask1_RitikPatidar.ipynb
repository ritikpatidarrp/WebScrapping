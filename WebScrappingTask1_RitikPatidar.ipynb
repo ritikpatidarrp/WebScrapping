{
  "nbformat": 4,
  "nbformat_minor": 0,
  "metadata": {
    "colab": {
      "provenance": [],
      "authorship_tag": "ABX9TyOL5MA1mGjX92EWDD0XzWsY",
      "include_colab_link": true
    },
    "kernelspec": {
      "name": "python3",
      "display_name": "Python 3"
    },
    "language_info": {
      "name": "python"
    }
  },
  "cells": [
    {
      "cell_type": "markdown",
      "metadata": {
        "id": "view-in-github",
        "colab_type": "text"
      },
      "source": [
        "<a href=\"https://colab.research.google.com/github/ritikpatidarrp/WebScrapping/blob/main/WebScrappingTask1_RitikPatidar.ipynb\" target=\"_parent\"><img src=\"https://colab.research.google.com/assets/colab-badge.svg\" alt=\"Open In Colab\"/></a>"
      ]
    },
    {
      "cell_type": "code",
      "execution_count": 176,
      "metadata": {
        "colab": {
          "base_uri": "https://localhost:8080/"
        },
        "id": "q-TnRmTg-2F1",
        "outputId": "d67cd818-cd73-40b9-edab-7122f8b0bc30"
      },
      "outputs": [
        {
          "output_type": "stream",
          "name": "stdout",
          "text": [
            "Requirement already satisfied: beautifulsoup4 in /usr/local/lib/python3.10/dist-packages (4.12.3)\n",
            "Requirement already satisfied: soupsieve>1.2 in /usr/local/lib/python3.10/dist-packages (from beautifulsoup4) (2.5)\n",
            "Requirement already satisfied: requests in /usr/local/lib/python3.10/dist-packages (2.31.0)\n",
            "Requirement already satisfied: charset-normalizer<4,>=2 in /usr/local/lib/python3.10/dist-packages (from requests) (3.3.2)\n",
            "Requirement already satisfied: idna<4,>=2.5 in /usr/local/lib/python3.10/dist-packages (from requests) (3.6)\n",
            "Requirement already satisfied: urllib3<3,>=1.21.1 in /usr/local/lib/python3.10/dist-packages (from requests) (2.0.7)\n",
            "Requirement already satisfied: certifi>=2017.4.17 in /usr/local/lib/python3.10/dist-packages (from requests) (2024.2.2)\n"
          ]
        }
      ],
      "source": [
        "!pip3 install beautifulsoup4\n",
        "!pip3 install requests"
      ]
    },
    {
      "cell_type": "code",
      "source": [
        "import requests\n",
        "from bs4 import BeautifulSoup\n",
        "HEADERS = {'User-Agent': 'Mozilla/5.0 (Macintosh; Intel Mac OS X 10_15_7) AppleWebKit/537.36 (KHTML, like Gecko) Chrome/121.0.0.0 Safari/537.36', 'Accept-Language': 'en-US, en;q=0.5'}\n"
      ],
      "metadata": {
        "id": "zTdz591gF6kJ"
      },
      "execution_count": 177,
      "outputs": []
    },
    {
      "cell_type": "code",
      "source": [
        "URLs = [\n",
        "    \"https://www.amazon.com.au/dp/B01BIRVL6A\",\n",
        "        \"https://www.amazon.com.au/dp/B00544A9SK\",\n",
        "        \"https://www.amazon.com.au/dp/B00NKJZE4K\",\n",
        "        \"https://www.amazon.com.au/dp/B08XNS9BFS\",\n",
        "        \"https://www.amazon.ca/dp/B0CP9QSBKR\",\n",
        "        'https://www.amazon.co.uk/dp/B0CMCSYHZM',\n",
        "        \"https://www.amazon.com/dp/B0CQXMJ66Y\",\n",
        "        \"https://www.amazon.com/dp/B0CRCRLT5T\",\n",
        "        \"https://www.amazon.de/-/en/dp/B0CQK87DQ5\",\n",
        "        \"https://www.amazon.de/-/en/dp/B0CQK5GH9M\",\n",
        "        \"https://www.amazon.com.tr/dp/B0CSG29SGB\",\n",
        "        \"https://www.amazon.com/dp/B0CH5BMM7M\",\n",
        "        \"https://www.amazon.de/-/en/dp/B0CQD7BLRG\",\n",
        "        \"https://www.amazon.de/-/en/dp/B0CQD3JRDZ\",\n",
        "        \"https://www.amazon.de/-/en/dp/B0CQD5QQR6\"\n",
        "]"
      ],
      "metadata": {
        "id": "nquPYJWeYgUp"
      },
      "execution_count": 178,
      "outputs": []
    },
    {
      "cell_type": "code",
      "source": [
        "def scrapPrice(soup):\n",
        "  try:\n",
        "    price_element = soup.find(\"div\", {\"id\": \"corePriceDisplay_desktop_feature_div\"}).find(\"div\", {\"class\": \"aok-relative\"})\n",
        "    price_number = price_element.find(\"span\", {\"class\": \"a-price-whole\"}).text.strip()\n",
        "    price_symbol = price_element.find(\"span\", {\"class\": \"a-price-symbol\"}).text.strip()\n",
        "    print(\"Price:\",price_symbol,price_number)\n",
        "  except:\n",
        "    print(\"Price: Currently Unavailable\")"
      ],
      "metadata": {
        "id": "nT1-g5KKYgSj"
      },
      "execution_count": 191,
      "outputs": []
    },
    {
      "cell_type": "code",
      "source": [
        "def scrapBrand(soup):\n",
        "  try:\n",
        "    # Find the element that contains the Brand information\n",
        "    brand_element = soup.find(\"a\", {\"id\": \"bylineInfo\"})\n",
        "    # Extract the brand\n",
        "    brand_name = brand_element.text.strip().replace(\"Brand: \", \"\").replace(\"Visit \",\"\").replace(\"the \",\"\")\n",
        "    index_of_store = brand_name.find(\"Store\")\n",
        "    # Extract the part of the string before 'Store'\n",
        "    brand_name = brand_name[:index_of_store] if index_of_store != -1 else brand_name\n",
        "\n",
        "    print(\"Brand:\",brand_name)\n",
        "  except:\n",
        "    print(\"Brand not Mantioned\")"
      ],
      "metadata": {
        "id": "G5IcW-17sfM3"
      },
      "execution_count": 180,
      "outputs": []
    },
    {
      "cell_type": "code",
      "source": [
        "def scrapImage(soup):\n",
        "  # Find the element that contains the title information\n",
        "  img_element = soup.find(\"div\", {\"id\": \"imgTagWrapperId\"}).find(\"img\")\n",
        "  # Extract the title\n",
        "  img = img_element.get(\"src\")\n",
        "  print(\"Image URL:\", img)"
      ],
      "metadata": {
        "id": "Uyx7w1QatSNd"
      },
      "execution_count": 181,
      "outputs": []
    },
    {
      "cell_type": "code",
      "source": [
        "def scrapTitle(soup):\n",
        "  # Find the element that contains the title information\n",
        "  try:\n",
        "    title_element = soup.find(\"span\", {\"id\": \"productTitle\"})\n",
        "    # Extract the title\n",
        "    title_name = title_element.text.strip()\n",
        "    print(\"Title Name:\", title_name)\n",
        "    scrapPrice(soup)\n",
        "    scrapBrand(soup)\n",
        "    scrapImage(soup)\n",
        "  except:\n",
        "    print(\"Page not found!\")"
      ],
      "metadata": {
        "id": "ioMWdS5jcMrr"
      },
      "execution_count": 182,
      "outputs": []
    },
    {
      "cell_type": "code",
      "source": [
        "def scrapURL(URLs):\n",
        "  ind = 0\n",
        "  for URL in URLs:\n",
        "    ind+=1\n",
        "    print(\"{0}. {1}\".format(ind,URL))\n",
        "    webpage = requests.get(URL, headers=HEADERS)\n",
        "    soup = BeautifulSoup(webpage.content, \"html.parser\")\n",
        "    scrapTitle(soup)\n",
        "    # scrapPrice(soup)\n",
        "    print(\"\\n\")\n"
      ],
      "metadata": {
        "id": "0jdQ74F9YgK3"
      },
      "execution_count": 187,
      "outputs": []
    },
    {
      "cell_type": "code",
      "source": [
        "  scrapURL(URLs)"
      ],
      "metadata": {
        "colab": {
          "base_uri": "https://localhost:8080/"
        },
        "id": "WT41F09LYgBR",
        "outputId": "0b4305da-c28c-40f2-86c7-e8c5223eac0f"
      },
      "execution_count": 192,
      "outputs": [
        {
          "output_type": "stream",
          "name": "stdout",
          "text": [
            "1. https://www.amazon.com.au/dp/B01BIRVL6A\n",
            "Title Name: Lemsip Max Lemon Cold and Flu Decongestant Hot Drink (Pack of 10)\n",
            "Price: Currently Unavailable\n",
            "Brand: Lemsip\n",
            "Image URL: https://m.media-amazon.com/images/I/A1JANUL33bL.__AC_SX300_SY300_QL70_ML2_.jpg\n",
            "\n",
            "\n",
            "2. https://www.amazon.com.au/dp/B00544A9SK\n",
            "Title Name: Disprin Original Fasting Acting Pain Relief Tablets (Count of 24) (33234)\n",
            "Price: Currently Unavailable\n",
            "Brand: Disprin\n",
            "Image URL: https://m.media-amazon.com/images/I/81Y03aKsYJL.__AC_SX300_SY300_QL70_ML2_.jpg\n",
            "\n",
            "\n",
            "3. https://www.amazon.com.au/dp/B00NKJZE4K\n",
            "Title Name: Gaviscon Dual Action Chewable Peppermint Heartburn & Indigestion Relief Tablets (Count of 16)\n",
            "Price: Currently Unavailable\n",
            "Brand: Gaviscon \n",
            "Image URL: https://m.media-amazon.com/images/I/819w-FS5HIL.__AC_SX300_SY300_QL70_ML2_.jpg\n",
            "\n",
            "\n",
            "4. https://www.amazon.com.au/dp/B08XNS9BFS\n",
            "Title Name: Strepfen Intensive Honey & Lemon Throat Lozenges 16 Pack\n",
            "Price: Currently Unavailable\n",
            "Brand: Strepfen\n",
            "Image URL: https://m.media-amazon.com/images/I/81KtzPlEuZL.__AC_SX300_SY300_QL70_ML2_.jpg\n",
            "\n",
            "\n",
            "5. https://www.amazon.ca/dp/B0CP9QSBKR\n",
            "Title Name: Airwick Vibrant™ SCENTED OIL Air Freshener Plug in & Refill, White Sage & Mahogany, Infused with 2x More Essential Oils* for incredible fragrance, with Anti Fading technology\n",
            "Price: Currently Unavailable\n",
            "Brand: Airwick \n",
            "Image URL: https://m.media-amazon.com/images/I/816dWpHNdUL.__AC_SX300_SY300_QL70_ML2_.jpg\n",
            "\n",
            "\n",
            "6. https://www.amazon.co.uk/dp/B0CMCSYHZM\n",
            "Title Name: Air Wick Aerosol-Free Automatic Air Freshener Spray\n",
            "Price: Currently Unavailable\n",
            "Brand: Airwick\n",
            "Image URL: https://m.media-amazon.com/images/I/01RmK+J4pJL._AC_.gif\n",
            "\n",
            "\n",
            "7. https://www.amazon.com/dp/B0CQXMJ66Y\n",
            "Page not found!\n",
            "\n",
            "\n",
            "8. https://www.amazon.com/dp/B0CRCRLT5T\n",
            "Page not found!\n",
            "\n",
            "\n",
            "9. https://www.amazon.de/-/en/dp/B0CQK87DQ5\n",
            "Title Name: Air Wick Duftölflakon Nachfüller DUO Blooming Garden – Floraler Raumduft – 2er Duftöl Set – Lufterfrischer für die Wohnung\n",
            "Price: Currently Unavailable\n",
            "Brand: Air Wick \n",
            "Image URL: https://m.media-amazon.com/images/I/71-BZUFK4zL.__AC_SX300_SY300_QL70_ML2_.jpg\n",
            "\n",
            "\n",
            "10. https://www.amazon.de/-/en/dp/B0CQK5GH9M\n",
            "Title Name: Air Wick Duo Fresh Spring Breeze Fragrance Oil Bottle Refill - Floral Room Fragrance - Set of 2 Fragrance Oil - Air Freshener for Home\n",
            "Price: Currently Unavailable\n",
            "Brand: Air Wick \n",
            "Image URL: https://m.media-amazon.com/images/I/71i9VYxm2BL.__AC_SX300_SY300_QL70_ML2_.jpg\n",
            "\n",
            "\n",
            "11. https://www.amazon.com.tr/dp/B0CSG29SGB\n",
            "Title Name: Air Wick Elektrikli Oda Kokusu Yedek Şişe Vanilya\n",
            "Price: Currently Unavailable\n",
            "Brand: Air Wick \n",
            "Image URL: https://m.media-amazon.com/images/I/61hzIM57elL.__AC_SX300_SY300_QL70_ML2_.jpg\n",
            "\n",
            "\n",
            "12. https://www.amazon.com/dp/B0CH5BMM7M\n",
            "Page not found!\n",
            "\n",
            "\n",
            "13. https://www.amazon.de/-/en/dp/B0CQD7BLRG\n",
            "Title Name: Air Wick Feel-good Duo Scented Candle in Glass - Raspberry Rose Splash - Contains Natural Essential Oils - Scented Candle Set with 2 Candles Each\n",
            "Price: Currently Unavailable\n",
            "Brand: Air Wick \n",
            "Image URL: https://m.media-amazon.com/images/I/71eGzOgehQL.__AC_SX300_SY300_QL70_ML2_.jpg\n",
            "\n",
            "\n",
            "14. https://www.amazon.de/-/en/dp/B0CQD3JRDZ\n",
            "Title Name: Air Wick Feel-good scented candle duo in glass - cotton flower dream - contains natural essential oils - scented candle set with 2 candles each\n",
            "Price: € 6.\n",
            "Brand: Air Wick \n",
            "Image URL: https://m.media-amazon.com/images/I/71PXeH2JKSL.__AC_SX300_SY300_QL70_ML2_.jpg\n",
            "\n",
            "\n",
            "15. https://www.amazon.de/-/en/dp/B0CQD5QQR6\n",
            "Title Name: Air Wick Feel-good Scented Candle in Glass - Sweet Vanilla Magic - Up to 20 Hours Burn Time Each - Contains Natural Essential Oils - Scented Candle Set of 2 Candles\n",
            "Price: Currently Unavailable\n",
            "Brand: Air Wick \n",
            "Image URL: https://m.media-amazon.com/images/I/71sZ6lsxQBL.__AC_SX300_SY300_QL70_ML2_.jpg\n",
            "\n",
            "\n"
          ]
        }
      ]
    }
  ]
}